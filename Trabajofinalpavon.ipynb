# Laburamos sobre el repositorio de github:
!git clone https://github.com/PALACIOS1259/Cienciadedatos.git
%cd Cienciadedatos 

import pandas as pd
df = pd.read_csv('telecom.csv')

df.head()
